{
 "cells": [
  {
   "cell_type": "code",
   "execution_count": 1,
   "id": "initial_id",
   "metadata": {
    "collapsed": true,
    "ExecuteTime": {
     "end_time": "2023-11-30T15:45:54.218023Z",
     "start_time": "2023-11-30T15:45:53.488037Z"
    }
   },
   "outputs": [],
   "source": [
    "from station_reconstruct_utils import DatasetPlotter, AreaPlotter, DataSet, Area"
   ]
  },
  {
   "cell_type": "code",
   "execution_count": 2,
   "outputs": [
    {
     "ename": "FileNotFoundError",
     "evalue": "[Errno 2] No such file or directory: 'era5/era5-july-sept'",
     "output_type": "error",
     "traceback": [
      "\u001B[0;31m---------------------------------------------------------------------------\u001B[0m",
      "\u001B[0;31mFileNotFoundError\u001B[0m                         Traceback (most recent call last)",
      "Cell \u001B[0;32mIn[2], line 7\u001B[0m\n\u001B[1;32m      5\u001B[0m HamburgPlotter \u001B[38;5;241m=\u001B[39m AreaPlotter(Hamburg)\n\u001B[1;32m      6\u001B[0m HamburgPlotter\u001B[38;5;241m.\u001B[39mgenerate_time_index_list(\u001B[38;5;241m2\u001B[39m)\n\u001B[0;32m----> 7\u001B[0m HamburgPlotter\u001B[38;5;241m.\u001B[39mplot_dataset(\u001B[43mDataSet\u001B[49m\u001B[43m(\u001B[49m\u001B[38;5;124;43m\"\u001B[39;49m\u001B[38;5;124;43mera5\u001B[39;49m\u001B[38;5;124;43m\"\u001B[39;49m\u001B[43m,\u001B[49m\u001B[43m \u001B[49m\u001B[38;5;124;43m\"\u001B[39;49m\u001B[38;5;124;43mera5-july-sept\u001B[39;49m\u001B[38;5;124;43m\"\u001B[39;49m\u001B[43m)\u001B[49m)\n",
      "File \u001B[0;32m~/PycharmProjects/climatereconstructionAI/station-reconstruct/station_reconstruct_utils.py:18\u001B[0m, in \u001B[0;36mDataSet.__init__\u001B[0;34m(self, folder_path, name)\u001B[0m\n\u001B[1;32m     15\u001B[0m \u001B[38;5;66;03m# join all *.nc files in folder to one dataset\u001B[39;00m\n\u001B[1;32m     16\u001B[0m cdo_command \u001B[38;5;241m=\u001B[39m \u001B[38;5;124mf\u001B[39m\u001B[38;5;124m\"\u001B[39m\u001B[38;5;124mcdo cat \u001B[39m\u001B[38;5;132;01m{\u001B[39;00mfolder_path\u001B[38;5;132;01m}\u001B[39;00m\u001B[38;5;124m/*.nc \u001B[39m\u001B[38;5;132;01m{\u001B[39;00m\u001B[38;5;28mself\u001B[39m\u001B[38;5;241m.\u001B[39mpath\u001B[38;5;132;01m}\u001B[39;00m\u001B[38;5;124m\"\u001B[39m\n\u001B[0;32m---> 18\u001B[0m \u001B[38;5;28mself\u001B[39m\u001B[38;5;241m.\u001B[39mdataset \u001B[38;5;241m=\u001B[39m \u001B[43mnc\u001B[49m\u001B[38;5;241;43m.\u001B[39;49m\u001B[43mDataset\u001B[49m\u001B[43m(\u001B[49m\u001B[38;5;28;43mself\u001B[39;49m\u001B[38;5;241;43m.\u001B[39;49m\u001B[43mpath\u001B[49m\u001B[43m)\u001B[49m\n\u001B[1;32m     19\u001B[0m \u001B[38;5;28mself\u001B[39m\u001B[38;5;241m.\u001B[39mlon \u001B[38;5;241m=\u001B[39m \u001B[38;5;28mself\u001B[39m\u001B[38;5;241m.\u001B[39mdataset\u001B[38;5;241m.\u001B[39mvariables[\u001B[38;5;124m'\u001B[39m\u001B[38;5;124mlon\u001B[39m\u001B[38;5;124m'\u001B[39m][:]\n\u001B[1;32m     20\u001B[0m \u001B[38;5;28mself\u001B[39m\u001B[38;5;241m.\u001B[39mlat \u001B[38;5;241m=\u001B[39m \u001B[38;5;28mself\u001B[39m\u001B[38;5;241m.\u001B[39mdataset\u001B[38;5;241m.\u001B[39mvariables[\u001B[38;5;124m'\u001B[39m\u001B[38;5;124mlat\u001B[39m\u001B[38;5;124m'\u001B[39m][:]\n",
      "File \u001B[0;32msrc/netCDF4/_netCDF4.pyx:2469\u001B[0m, in \u001B[0;36mnetCDF4._netCDF4.Dataset.__init__\u001B[0;34m()\u001B[0m\n",
      "File \u001B[0;32msrc/netCDF4/_netCDF4.pyx:2028\u001B[0m, in \u001B[0;36mnetCDF4._netCDF4._ensure_nc_success\u001B[0;34m()\u001B[0m\n",
      "\u001B[0;31mFileNotFoundError\u001B[0m: [Errno 2] No such file or directory: 'era5/era5-july-sept'"
     ]
    }
   ],
   "source": [
    "# Plot Hamburg\n",
    "hh_lon = 9.95\n",
    "hh_lat = 53.55\n",
    "Hamburg = Area(hh_lon-2, hh_lon+2, hh_lat-2, hh_lat+2)\n",
    "HamburgPlotter = AreaPlotter(Hamburg)\n",
    "HamburgPlotter.generate_time_index_list(2)\n",
    "HamburgPlotter.plot_dataset(DataSet(\"./era5\", \"era5-july-sept\"))"
   ],
   "metadata": {
    "collapsed": false,
    "ExecuteTime": {
     "end_time": "2023-11-30T15:45:54.405341Z",
     "start_time": "2023-11-30T15:45:54.219330Z"
    }
   },
   "id": "70200d51b322f04"
  },
  {
   "cell_type": "code",
   "execution_count": null,
   "outputs": [],
   "source": [],
   "metadata": {
    "collapsed": false,
    "ExecuteTime": {
     "end_time": "2023-11-30T15:45:54.410650Z",
     "start_time": "2023-11-30T15:45:54.407064Z"
    }
   },
   "id": "b1ad8ea4dfb4f099"
  }
 ],
 "metadata": {
  "kernelspec": {
   "display_name": "Python 3",
   "language": "python",
   "name": "python3"
  },
  "language_info": {
   "codemirror_mode": {
    "name": "ipython",
    "version": 2
   },
   "file_extension": ".py",
   "mimetype": "text/x-python",
   "name": "python",
   "nbconvert_exporter": "python",
   "pygments_lexer": "ipython2",
   "version": "2.7.6"
  }
 },
 "nbformat": 4,
 "nbformat_minor": 5
}
