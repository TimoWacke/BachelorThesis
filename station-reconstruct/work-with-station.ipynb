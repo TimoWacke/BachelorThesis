{
 "cells": [
  {
   "cell_type": "code",
   "execution_count": 1,
   "id": "initial_id",
   "metadata": {
    "collapsed": true,
    "ExecuteTime": {
     "end_time": "2023-11-30T17:39:26.689212Z",
     "start_time": "2023-11-30T17:39:25.767695Z"
    }
   },
   "outputs": [],
   "source": [
    "from station_reconstruct_utils import DatasetPlotter, AreaPlotter, DataSet, Area"
   ]
  },
  {
   "cell_type": "code",
   "execution_count": 2,
   "outputs": [
    {
     "data": {
      "text/plain": "(9.793, 52.96)"
     },
     "execution_count": 2,
     "metadata": {},
     "output_type": "execute_result"
    }
   ],
   "source": [
    "# Get Grid info about soltau\n",
    "soltau = DataSet(\"DWD_Soltau-04745\", \"Soltau\")\n",
    "# get lonlat info about soltau\n",
    "soltau.lon[0], soltau.lat[0]"
   ],
   "metadata": {
    "collapsed": false,
    "ExecuteTime": {
     "end_time": "2023-11-30T17:39:30.119669Z",
     "start_time": "2023-11-30T17:39:26.689720Z"
    }
   },
   "id": "70200d51b322f04"
  },
  {
   "cell_type": "code",
   "execution_count": 4,
   "outputs": [
    {
     "name": "stdout",
     "output_type": "stream",
     "text": [
      "lon interval (20, 52)\n",
      "slice(20, 52, None) slice(493, 525, None) N: 48.76° to N: 57.75°, E: 14.62° to E: 5.62°\n"
     ]
    }
   ],
   "source": [
    "era5 = DataSet(\"era5\", \"era5\")\n",
    "\n",
    "# find grid around soltau in era5\n",
    "soltau_lon, soltau_lat = soltau.lon[0], soltau.lat[0]\n",
    "lon_slice, lat_slice, area = era5.crop_grid(soltau_lon, soltau_lat, 32, 32)\n",
    "print(lon_slice, lat_slice, area)"
   ],
   "metadata": {
    "collapsed": false,
    "ExecuteTime": {
     "end_time": "2023-11-30T17:50:13.827321Z",
     "start_time": "2023-11-30T17:49:42.225014Z"
    }
   },
   "id": "b1ad8ea4dfb4f099"
  },
  {
   "cell_type": "code",
   "execution_count": 8,
   "outputs": [],
   "source": [
    "# use grid to crop era5 data\n",
    "era5_min_lon_idx, era5_max_lon_idx, _ = lon_slice.indices(len(era5.lon))\n",
    "era5_min_lat_idx, era5_max_lat_idx, _ = lat_slice.indices(len(era5.lat))\n",
    "\n",
    "# use cdo selindexbox with subprocess\n",
    "\n",
    "era5_source_dir = \"era5\"\n",
    "era5_cropped_dir = \"era5_cropped\"\n",
    "\n",
    "import subprocess\n",
    "import os\n",
    "\n",
    "# for each file in era5 folder\n",
    "for file in os.listdir(era5_source_dir):\n",
    "    \n",
    "    # if folder does not exist, create it\n",
    "    if not os.path.exists(era5_cropped_dir):\n",
    "        os.mkdir(era5_cropped_dir)\n",
    "    \n",
    "    # cdo selindexbox with subprocess\n",
    "    cdo_command = f\"cdo selindexbox,{era5_min_lon_idx},{era5_max_lon_idx},{era5_min_lat_idx},{era5_max_lat_idx} {era5_source_dir}/{file} {era5_cropped_dir}/{file}\"\n",
    "    subprocess.run(cdo_command, shell=True)"
   ],
   "metadata": {
    "collapsed": false,
    "ExecuteTime": {
     "end_time": "2023-11-30T17:58:24.830386Z",
     "start_time": "2023-11-30T17:57:54.850428Z"
    }
   },
   "id": "4e0f34757ec96c7f"
  },
  {
   "cell_type": "code",
   "execution_count": null,
   "outputs": [],
   "source": [
    "era5_for_soltau = DataSet(era5_cropped_dir, \"era5_for_soltau\")\n",
    "\n"
   ],
   "metadata": {
    "collapsed": false
   },
   "id": "38b096828d3a36f3"
  }
 ],
 "metadata": {
  "kernelspec": {
   "name": "crai",
   "language": "python",
   "display_name": "crai"
  },
  "language_info": {
   "codemirror_mode": {
    "name": "ipython",
    "version": 2
   },
   "file_extension": ".py",
   "mimetype": "text/x-python",
   "name": "python",
   "nbconvert_exporter": "python",
   "pygments_lexer": "ipython2",
   "version": "2.7.6"
  }
 },
 "nbformat": 4,
 "nbformat_minor": 5
}
