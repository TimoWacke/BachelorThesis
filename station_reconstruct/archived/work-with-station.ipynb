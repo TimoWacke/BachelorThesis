{
 "cells": [
  {
   "cell_type": "markdown",
   "metadata": {},
   "source": [
    "## Essentials"
   ]
  },
  {
   "cell_type": "code",
   "execution_count": 5,
   "metadata": {},
   "outputs": [],
   "source": [
    "import numpy as np\n",
    "from tqdm import tqdm\n",
    "import xarray as xr\n",
    "import subprocess\n",
    "import os\n"
   ]
  },
  {
   "cell_type": "code",
   "execution_count": 2,
   "id": "initial_id",
   "metadata": {
    "ExecuteTime": {
     "end_time": "2023-11-30T17:39:26.689212Z",
     "start_time": "2023-11-30T17:39:25.767695Z"
    },
    "collapsed": true
   },
   "outputs": [],
   "source": [
    "from utils import DatasetPlotter, AreaPlotter, DataSet, Area, Station"
   ]
  },
  {
   "cell_type": "code",
   "execution_count": 3,
   "id": "70200d51b322f04",
   "metadata": {
    "ExecuteTime": {
     "end_time": "2023-11-30T17:39:30.119669Z",
     "start_time": "2023-11-30T17:39:26.689720Z"
    },
    "collapsed": false
   },
   "outputs": [
    {
     "name": "stdout",
     "output_type": "stream",
     "text": [
      "9.793 52.96 1 1\n"
     ]
    }
   ],
   "source": [
    "# Get Grid info about soltau\n",
    "station = Station(\"DWD_Soltau-04745\", \"Soltau\")\n",
    "# get lonlat info about soltau\n",
    "lon, lat = station.get_lon_lat()\n",
    "print(lon, lat, len(station.dataset.lon), len(station.dataset.lat))\n",
    "\n",
    "grid_width = 8\n",
    "grid_height = 8"
   ]
  },
  {
   "cell_type": "markdown",
   "metadata": {},
   "source": [
    "---"
   ]
  },
  {
   "cell_type": "code",
   "execution_count": 1,
   "id": "b1ad8ea4dfb4f099",
   "metadata": {
    "ExecuteTime": {
     "end_time": "2023-11-30T17:50:13.827321Z",
     "start_time": "2023-11-30T17:49:42.225014Z"
    },
    "collapsed": false
   },
   "outputs": [
    {
     "ename": "NameError",
     "evalue": "name 'DataSet' is not defined",
     "output_type": "error",
     "traceback": [
      "\u001b[0;31m---------------------------------------------------------------------------\u001b[0m",
      "\u001b[0;31mNameError\u001b[0m                                 Traceback (most recent call last)",
      "\u001b[1;32m/home/k/k203179/reconstructing-ai-for-weather-station-data/station-reconstruct/work-with-station.ipynb Cell 6\u001b[0m line \u001b[0;36m1\n\u001b[0;32m----> <a href='vscode-notebook-cell://ssh-remote%2Blevante/home/k/k203179/reconstructing-ai-for-weather-station-data/station-reconstruct/work-with-station.ipynb#W5sdnNjb2RlLXJlbW90ZQ%3D%3D?line=0'>1</a>\u001b[0m era5 \u001b[39m=\u001b[39m DataSet(\u001b[39m\"\u001b[39m\u001b[39m/work/bm1159/XCES/data4xces/reanalysis/reanalysis/ECMWF/IFS/ERA5/1hr/atmos/tas/r1i1p1/tas_1hr_reanalysis_era5_r1i1p1_20231001-20231031.nc\u001b[39m\u001b[39m\"\u001b[39m, \u001b[39m\"\u001b[39m\u001b[39mera5\u001b[39m\u001b[39m\"\u001b[39m, is_file\u001b[39m=\u001b[39m\u001b[39mTrue\u001b[39;00m)\n\u001b[1;32m      <a href='vscode-notebook-cell://ssh-remote%2Blevante/home/k/k203179/reconstructing-ai-for-weather-station-data/station-reconstruct/work-with-station.ipynb#W5sdnNjb2RlLXJlbW90ZQ%3D%3D?line=2'>3</a>\u001b[0m \u001b[39m# print nearest lon lat for testing\u001b[39;00m\n\u001b[1;32m      <a href='vscode-notebook-cell://ssh-remote%2Blevante/home/k/k203179/reconstructing-ai-for-weather-station-data/station-reconstruct/work-with-station.ipynb#W5sdnNjb2RlLXJlbW90ZQ%3D%3D?line=3'>4</a>\u001b[0m nearest_lon_idx, nearest_lat_idx \u001b[39m=\u001b[39m np\u001b[39m.\u001b[39msearchsorted(era5\u001b[39m.\u001b[39mlon, station\u001b[39m.\u001b[39mget_lon_lat())\n",
      "\u001b[0;31mNameError\u001b[0m: name 'DataSet' is not defined"
     ]
    }
   ],
   "source": [
    "era5 = DataSet(\"/work/bm1159/XCES/data4xces/reanalysis/reanalysis/ECMWF/IFS/ERA5/1hr/atmos/tas/r1i1p1/tas_1hr_reanalysis_era5_r1i1p1_20231001-20231031.nc\", \"era5\", is_file=True)\n",
    "\n",
    "# print nearest lon lat for testing\n",
    "nearest_lon_idx, nearest_lat_idx = np.searchsorted(era5.lon, station.get_lon_lat())\n",
    "print(nearest_lon_idx, nearest_lat_idx)\n",
    "# print how solau lon is sorted in era5 lon\n",
    "print(era5.lon[nearest_lon_idx-1:nearest_lon_idx+1], \"->\", f\"{nearest_lon_idx-1}: {era5.lon[nearest_lon_idx-1]}, {nearest_lon_idx}: {era5.lon[nearest_lon_idx]}, {nearest_lon_idx+1}: {era5.lon[nearest_lon_idx+1]}\")\n",
    "print(f\"{station.name}.lon is between {nearest_lon_idx - 1} and {nearest_lon_idx}\")\n",
    "\n",
    "lon_slice, lat_slice, area = era5.crop_grid(*station.get_lon_lat(), grid_width, grid_height)\n",
    "print(lon_slice, lat_slice, area)"
   ]
  },
  {
   "cell_type": "code",
   "execution_count": 5,
   "metadata": {},
   "outputs": [
    {
     "name": "stdout",
     "output_type": "stream",
     "text": [
      "4: [31, 32, 33, 34] - 9.793 - [35, 36, 37, 38]: 4\n"
     ]
    }
   ],
   "source": [
    "# use grid to crop era5 data\n",
    "era5_min_lon_idx, era5_max_lon_idx, _ = lon_slice.indices(len(era5.lon))\n",
    "era5_min_lat_idx, era5_max_lat_idx, _ = lat_slice.indices(len(era5.lat))\n",
    "\n",
    "lower_idxes = list(range(era5_min_lon_idx, nearest_lon_idx))\n",
    "upper_idxes = list(range(nearest_lon_idx, era5_max_lon_idx))\n",
    "\n",
    "print(f\"{len(lower_idxes)}: {lower_idxes} - {station.get_lon_lat()[0]} - {upper_idxes}: {len(upper_idxes)}\")"
   ]
  },
  {
   "cell_type": "code",
   "execution_count": 6,
   "metadata": {},
   "outputs": [],
   "source": [
    "from concurrent.futures import ProcessPoolExecutor"
   ]
  },
  {
   "cell_type": "code",
   "execution_count": 1,
   "id": "4e0f34757ec96c7f",
   "metadata": {
    "ExecuteTime": {
     "end_time": "2023-11-30T17:58:24.830386Z",
     "start_time": "2023-11-30T17:57:54.850428Z"
    },
    "collapsed": false
   },
   "outputs": [
    {
     "ename": "NameError",
     "evalue": "name 'os' is not defined",
     "output_type": "error",
     "traceback": [
      "\u001b[0;31m---------------------------------------------------------------------------\u001b[0m",
      "\u001b[0;31mNameError\u001b[0m                                 Traceback (most recent call last)",
      "\u001b[1;32m/home/k/k203179/reconstructing-ai-for-weather-station-data/station-reconstruct/work-with-station.ipynb Cell 9\u001b[0m line \u001b[0;36m8\n\u001b[1;32m      <a href='vscode-notebook-cell://ssh-remote%2Blevante/home/k/k203179/reconstructing-ai-for-weather-station-data/station-reconstruct/work-with-station.ipynb#X11sdnNjb2RlLXJlbW90ZQ%3D%3D?line=2'>3</a>\u001b[0m era5_source_dir \u001b[39m=\u001b[39m \u001b[39m\"\u001b[39m\u001b[39m/work/bm1159/XCES/data4xces/reanalysis/reanalysis/ECMWF/IFS/ERA5/1hr/atmos/tas/r1i1p1\u001b[39m\u001b[39m\"\u001b[39m\n\u001b[1;32m      <a href='vscode-notebook-cell://ssh-remote%2Blevante/home/k/k203179/reconstructing-ai-for-weather-station-data/station-reconstruct/work-with-station.ipynb#X11sdnNjb2RlLXJlbW90ZQ%3D%3D?line=3'>4</a>\u001b[0m era5_cropped_dir \u001b[39m=\u001b[39m \u001b[39m\"\u001b[39m\u001b[39mera5_cropped\u001b[39m\u001b[39m\"\u001b[39m\n\u001b[0;32m----> <a href='vscode-notebook-cell://ssh-remote%2Blevante/home/k/k203179/reconstructing-ai-for-weather-station-data/station-reconstruct/work-with-station.ipynb#X11sdnNjb2RlLXJlbW90ZQ%3D%3D?line=7'>8</a>\u001b[0m all_files \u001b[39m=\u001b[39m os\u001b[39m.\u001b[39mlistdir(era5_source_dir)\n\u001b[1;32m      <a href='vscode-notebook-cell://ssh-remote%2Blevante/home/k/k203179/reconstructing-ai-for-weather-station-data/station-reconstruct/work-with-station.ipynb#X11sdnNjb2RlLXJlbW90ZQ%3D%3D?line=8'>9</a>\u001b[0m \u001b[39m# sort files by name, start with the newes (highes number)\u001b[39;00m\n\u001b[1;32m     <a href='vscode-notebook-cell://ssh-remote%2Blevante/home/k/k203179/reconstructing-ai-for-weather-station-data/station-reconstruct/work-with-station.ipynb#X11sdnNjb2RlLXJlbW90ZQ%3D%3D?line=9'>10</a>\u001b[0m all_files\u001b[39m.\u001b[39msort(reverse\u001b[39m=\u001b[39m\u001b[39mTrue\u001b[39;00m)\n",
      "\u001b[0;31mNameError\u001b[0m: name 'os' is not defined"
     ]
    }
   ],
   "source": [
    "\n",
    "\n",
    "# use cdo selindexbox with subprocess\n",
    "\n",
    "era5_source_dir = \"/work/bm1159/XCES/data4xces/reanalysis/reanalysis/ECMWF/IFS/ERA5/1hr/atmos/tas/r1i1p1\"\n",
    "era5_cropped_dir = \"era5_cropped\"\n",
    "\n",
    "\n",
    "\n",
    "all_files = os.listdir(era5_source_dir)\n",
    "# sort files by name, start with the newes (highes number)\n",
    "all_files.sort(reverse=True)\n",
    "\n",
    "min_date = 19500101\n",
    "max_date = 20231231\n",
    "\n",
    "all_files = []\n",
    "for file in os.listdir(era5_source_dir):\n",
    "    if file.endswith(\".nc\"):\n",
    "        date = int(file.split(\"_\")[-1].split(\"-\")[0])\n",
    "        if min_date <= date <= max_date:\n",
    "            all_files.append(file)\n",
    "\n",
    "\n",
    "# remove direcotry if it exists\n",
    "if os.path.exists(era5_cropped_dir):\n",
    "    os.system(f\"rm -rf {era5_cropped_dir}\")\n",
    "\n",
    "# if folder does not exist, create it\n",
    "if not os.path.exists(era5_cropped_dir):\n",
    "    os.mkdir(era5_cropped_dir)\n",
    "\n",
    "\n",
    "def crop_and_copy_file(file, expected_lon_values=None, expected_lat_values=None):\n",
    "    if not os.path.exists(f\"{era5_cropped_dir}/{file}\"):\n",
    "        # cdo selindexbox with subprocess\n",
    "        cdo_command = f\"cdo selindexbox,{era5_min_lon_idx + 1},{era5_max_lon_idx},{era5_min_lat_idx + 1},{era5_max_lat_idx} {era5_source_dir}/{file} {era5_cropped_dir}/{file}\"\n",
    "        subprocess.run(cdo_command, shell=True)\n",
    "    \n",
    "    check_data = xr.open_dataset(f\"{era5_cropped_dir}/{file}\")\n",
    "\n",
    "    lon_values_in_file = check_data.lon.values\n",
    "    lat_values_in_file = check_data.lat.values\n",
    "    \n",
    "    check_data.close()\n",
    "\n",
    "    try:\n",
    "\n",
    "        assert expected_lon_values is None or np.array_equal(lon_values_in_file, expected_lon_values), f\"lon values in file {file} are not as expected.\\n\" + \\\n",
    "        f\"Expected:\\n{expected_lon_values},\\nbut got:\\n{lon_values_in_file}\"\n",
    "        assert expected_lat_values is None or np.array_equal(lat_values_in_file, expected_lat_values), f\"lat values in file {file} are not as expected.\\n\" + \\\n",
    "        f\"Expected:\\n{expected_lat_values},\\nbut got:\\n{lat_values_in_file}\"\n",
    "    \n",
    "        return None\n",
    "\n",
    "    except AssertionError as e:\n",
    "\n",
    "        return file \n",
    "\n",
    "\n",
    "\n",
    "# Use tqdm to display a loading bar\n",
    "with tqdm(total=len(all_files), desc=\"Processing Files\", unit=\"file\") as pbar:\n",
    "    def update_progress(*args):\n",
    "        pbar.update()\n",
    "\n",
    "\n",
    "    with ProcessPoolExecutor(max_workers=32) as executor:\n",
    "        futures = []\n",
    "        for file in all_files:\n",
    "            future = executor.submit(crop_and_copy_file, file, expected_lon_values=era5.lon[lon_slice], expected_lat_values=era5.lat[lat_slice])\n",
    "            future.add_done_callback(update_progress)\n",
    "            futures.append(future)\n",
    "\n",
    "        # Wait for all tasks to complete\n",
    "        problematic_files = [future.result() for future in futures if future.result() is not None]\n",
    "\n",
    "# Print the filenames of problematic files\n",
    "if problematic_files:\n",
    "    print(\"Problematic files with grid differences:\")\n",
    "    for problematic_file in problematic_files:\n",
    "        print(problematic_file)\n",
    "else:\n",
    "    print(\"No grid differences in files found.\")"
   ]
  },
  {
   "cell_type": "markdown",
   "metadata": {},
   "source": [
    "---\n",
    "\n",
    "## Checkpoint\n",
    "\n",
    "---"
   ]
  },
  {
   "cell_type": "code",
   "execution_count": 3,
   "id": "38b096828d3a36f3",
   "metadata": {
    "collapsed": false
   },
   "outputs": [
    {
     "ename": "NameError",
     "evalue": "name 'era5_cropped_dir' is not defined",
     "output_type": "error",
     "traceback": [
      "\u001b[0;31m---------------------------------------------------------------------------\u001b[0m",
      "\u001b[0;31mNameError\u001b[0m                                 Traceback (most recent call last)",
      "\u001b[1;32m/home/k/k203179/reconstructing-ai-for-weather-station-data/station-reconstruct/work-with-station.ipynb Cell 11\u001b[0m line \u001b[0;36m1\n\u001b[0;32m----> <a href='vscode-notebook-cell://ssh-remote%2Blevante/home/k/k203179/reconstructing-ai-for-weather-station-data/station-reconstruct/work-with-station.ipynb#X13sdnNjb2RlLXJlbW90ZQ%3D%3D?line=0'>1</a>\u001b[0m era5_for_soltau \u001b[39m=\u001b[39m DataSet(era5_cropped_dir, \u001b[39m\"\u001b[39m\u001b[39mera5_for_soltau\u001b[39m\u001b[39m\"\u001b[39m, replace_existing\u001b[39m=\u001b[39m\u001b[39mTrue\u001b[39;00m)\n\u001b[1;32m      <a href='vscode-notebook-cell://ssh-remote%2Blevante/home/k/k203179/reconstructing-ai-for-weather-station-data/station-reconstruct/work-with-station.ipynb#X13sdnNjb2RlLXJlbW90ZQ%3D%3D?line=2'>3</a>\u001b[0m \u001b[39m# remove directory \u001b[39;00m\n\u001b[1;32m      <a href='vscode-notebook-cell://ssh-remote%2Blevante/home/k/k203179/reconstructing-ai-for-weather-station-data/station-reconstruct/work-with-station.ipynb#X13sdnNjb2RlLXJlbW90ZQ%3D%3D?line=3'>4</a>\u001b[0m \u001b[39m# os.system(f\"rm -rf {era5_cropped_dir}\")\u001b[39;00m\n",
      "\u001b[0;31mNameError\u001b[0m: name 'era5_cropped_dir' is not defined"
     ]
    }
   ],
   "source": [
    "era5_for_soltau = DataSet(era5_cropped_dir, \"era5_for_soltau\", replace_existing=True)\n",
    "\n",
    "# remove directory \n",
    "# os.system(f\"rm -rf {era5_cropped_dir}\")"
   ]
  },
  {
   "cell_type": "code",
   "execution_count": 9,
   "metadata": {},
   "outputs": [
    {
     "name": "stdout",
     "output_type": "stream",
     "text": [
      "in timezone: Europe/Berlin\n",
      "at 2003-04-01 02:33:34.226104\n",
      "time difference: 2:00:00\n"
     ]
    }
   ],
   "source": [
    "# Demonstration of Timezone functionality\n",
    "from datetime import datetime,  timedelta\n",
    "from pytz import timezone\n",
    "\n",
    "import random\n",
    "start_date = datetime(1991, 10, 1)\n",
    "end_date = datetime(2020, 10, 31)\n",
    "random_date = start_date + (end_date - start_date) * random.random()\n",
    "\n",
    "tz = timezone(\"Europe/Berlin\")\n",
    "print(\"in timezone:\", tz)\n",
    "print(\"at\", random_date)\n",
    "print(\"time difference:\", tz.utcoffset(random_date))\n"
   ]
  },
  {
   "cell_type": "code",
   "execution_count": 10,
   "metadata": {},
   "outputs": [
    {
     "name": "stdout",
     "output_type": "stream",
     "text": [
      "Soltau dataset is not in utc time\n",
      "Soltau start date: 1966-01-01 01:00:00\n",
      "soltau time[0]: 0.0\n",
      "soltau time at index 0: 1966-01-01 01:00:00\n",
      "----------------------\n",
      "Timezone for Soltau: Europe/Berlin\n",
      "UTC offset for Soltau: 1.0 hours\n",
      "converted to utc:\n",
      "utc time at index 0: 1966-01-01 00:00:00\n"
     ]
    }
   ],
   "source": [
    "# Soltau start date\n",
    "print(\"Soltau dataset is in utc time\" if station.dataset.is_utc_time else \"Soltau dataset is not in utc time\")\n",
    "print(\"Soltau start date:\", station.dataset.start_date)\n",
    "print(\"soltau time[0]:\", station.dataset.time[0])\n",
    "print(\"soltau time at index 0:\", station.dataset.time_at_index(0))\n",
    "\n",
    "print(\"----------------------\")\n",
    "\n",
    "print(\"converted to utc:\")\n",
    "print(\"utc time at index 0:\", station.dataset.time_at_index(0))"
   ]
  },
  {
   "cell_type": "code",
   "execution_count": 11,
   "metadata": {},
   "outputs": [],
   "source": [
    "# find intersection of the sets of timesteps in soltau and era5\n",
    "self = station.dataset\n",
    "other = era5_for_soltau"
   ]
  },
  {
   "cell_type": "code",
   "execution_count": 12,
   "metadata": {},
   "outputs": [
    {
     "name": "stdout",
     "output_type": "stream",
     "text": [
      "start_date: 1966-01-01 00:00:00\n",
      "end_date: 2022-12-31 22:00:00\n"
     ]
    },
    {
     "name": "stderr",
     "output_type": "stream",
     "text": [
      "Checking tas:  22%|██▏       | 111791/499654 [00:41<02:29, 2597.49it/s]"
     ]
    },
    {
     "name": "stderr",
     "output_type": "stream",
     "text": [
      "Checking tas: 100%|██████████| 499654/499654 [03:06<00:00, 2676.09it/s]\n",
      "Checking tas: 100%|██████████| 499654/499654 [03:41<00:00, 2255.93it/s]\n"
     ]
    }
   ],
   "source": [
    "\n",
    "\n",
    "# get the later start date\n",
    "start_date = max(self.start_date, other.start_date)\n",
    "# get the earlier end date\n",
    "end_date = min(self.start_date + timedelta(seconds=self.time[-1] * self.units),\n",
    "            other.start_date + timedelta(seconds=other.time[-1] * other.units))\n",
    "\n",
    "\n",
    "print(\"start_date:\", start_date)\n",
    "print(\"end_date:\", end_date)\n",
    "\n",
    "# get the time indices for the intersection\n",
    "self_start_idx = self.get_time_index(start_date)\n",
    "self_end_idx = self.get_time_index(end_date)\n",
    "\n",
    "other_start_idx = other.get_time_index(start_date)\n",
    "other_end_idx = other.get_time_index(end_date)\n",
    "\n",
    "assert self.time_at_index(self_start_idx) == other.time_at_index(other_start_idx), \"start times are not equal\"\n",
    "assert self.time_at_index(self_end_idx) == other.time_at_index(other_end_idx), \"end times are not equal\"\n",
    "\n",
    "self_invalid_times = self.find_invalid_values(start_time_idx=self_start_idx, end_time_idx=self_end_idx)\n",
    "other_invalid_times = other.find_invalid_values(start_time_idx=other_start_idx, end_time_idx=other_end_idx)"
   ]
  },
  {
   "cell_type": "code",
   "execution_count": 13,
   "metadata": {},
   "outputs": [
    {
     "data": {
      "text/plain": [
       "('/work/bm1159/XCES/xces-work/k203179/data-sets/Soltau_temp.nc',\n",
       " '/work/bm1159/XCES/xces-work/k203179/data-sets/era5_for_soltau_temp.nc')"
      ]
     },
     "execution_count": 13,
     "metadata": {},
     "output_type": "execute_result"
    }
   ],
   "source": [
    "set_folder = \"/work/bm1159/XCES/xces-work/k203179/data-sets\"\n",
    "\n",
    "if not os.path.exists(set_folder):\n",
    "    os.mkdir(set_folder)\n",
    "\n",
    "self_temp_path = f\"{set_folder}/{self.name}_temp.nc\"\n",
    "other_temp_path = f\"{set_folder}/{other.name}_temp.nc\"\n",
    "self_new_path = f\"{self_temp_path.split('_temp')[0]}_cleaned.nc\"\n",
    "other_new_path = f\"{other_temp_path.split('_temp')[0]}_cleaned.nc\"\n",
    "self_temp_path, other_temp_path"
   ]
  },
  {
   "cell_type": "code",
   "execution_count": 14,
   "metadata": {},
   "outputs": [],
   "source": [
    "# unique union of invalid times\n",
    "self_delete_idx = np.concatenate((self_invalid_times, other_invalid_times - other_start_idx))\n",
    "other_delete_idx = np.concatenate((other_invalid_times, self_invalid_times - self_start_idx))\n",
    "\n",
    "self_delete_idx = np.unique(self_delete_idx)\n",
    "other_delete_idx = np.unique(other_delete_idx)\n",
    "\n",
    "\n",
    "if os.path.exists(self_temp_path):\n",
    "    os.remove(self_temp_path)\n",
    "# delete leading and trailing times outside of intersection\n",
    "cdo_command = f\"cdo seltimestep,{self_start_idx + 1}/{self_end_idx} {self.path} {self_temp_path}\"\n",
    "subprocess.run(cdo_command, shell=True)\n",
    "\n",
    "\n",
    "if os.path.exists(other_temp_path):\n",
    "    os.remove(other_temp_path)\n",
    "cdo_command = f\"cdo seltimestep,{other_start_idx + 1}/{other_end_idx} {other.path} {other_temp_path}\"\n",
    "subprocess.run(cdo_command, shell=True)\n",
    "\n",
    "\n",
    "# delete invalid times\n",
    "\n",
    "if os.path.exists(self_new_path):\n",
    "    os.remove(self_new_path)\n",
    "cdo_command = f\"cdo delete,timestep={','.join(map(str, self_delete_idx))} {self_temp_path} {self_new_path}\"\n",
    "subprocess.run(cdo_command, shell=True)\n",
    "os.remove(self_temp_path)\n",
    "\n",
    "\n",
    "\n",
    "if os.path.exists(other_new_path):\n",
    "    os.remove(other_new_path)\n",
    "cdo_command = f\"cdo delete,timestep={','.join(map(str, other_delete_idx))} {other_temp_path} {other_new_path}\"\n",
    "subprocess.run(cdo_command, shell=True)\n",
    "os.remove(other_temp_path)"
   ]
  },
  {
   "cell_type": "code",
   "execution_count": 2,
   "metadata": {},
   "outputs": [
    {
     "name": "stdout",
     "output_type": "stream",
     "text": [
      "/work/bm1159/XCES/xces-work/k203179/data-sets/Soltau_cleaned.nc /work/bm1159/XCES/xces-work/k203179/data-sets/era5_for_soltau_cleaned.nc\n"
     ]
    },
    {
     "name": "stderr",
     "output_type": "stream",
     "text": [
      "preparing /work/bm1159/XCES/xces-work/k203179/data/test/Soltau_cleaned.nc: 100%|██████████| 8761/8761 [00:04<00:00, 1868.20it/s]\n",
      "preparing /work/bm1159/XCES/xces-work/k203179/data/val/Soltau_cleaned.nc: 100%|██████████| 160/160 [00:00<00:00, 1852.58it/s]\n",
      "preparing /work/bm1159/XCES/xces-work/k203179/data/train/Soltau_cleaned.nc:  23%|██▎       | 114761/499494 [01:06<03:40, 1748.09it/s]"
     ]
    }
   ],
   "source": [
    "try:\n",
    "    print(self_new_path, other_new_path)\n",
    "   # raise Exception\n",
    "except:\n",
    "    self_new_path = \"/work/bm1159/XCES/xces-work/k203179/data-sets/Soltau_cleaned.nc\"\n",
    "    other_new_path = \"/work/bm1159/XCES/xces-work/k203179/data-sets/era5_for_soltau_cleaned.nc\"\n",
    "\n",
    "    print(self_new_path, other_new_path)\n",
    "\n",
    "if os.path.exists(\"/work/bm1159/XCES/xces-work/k203179/data\"):\n",
    "    os.system(f\"rm -rf /work/bm1159/XCES/xces-work/k203179/data\")\n",
    "\n",
    "from station_reconstruct_utils import TrainingsFilePair\n",
    "tfp = TrainingsFilePair(self_new_path, other_new_path)\n",
    "tfp.val = 160\n",
    "\n",
    "tfp.prepare_trainings_files()"
   ]
  },
  {
   "cell_type": "code",
   "execution_count": 16,
   "metadata": {},
   "outputs": [
    {
     "name": "stdout",
     "output_type": "stream",
     "text": [
      "   File format : NetCDF4\n",
      "    -1 : Institut Source   T Steptype Levels Num    Points Num Dtype : Parameter ID\n",
      "     1 : ECMWF    unknown  v instant       1   1        64   1  F32  : 167.128       \n",
      "   Grid coordinates :\n",
      "     1 : gaussian                 : points=64 (8x8)  F320\n",
      "                              lon : 8.71875 to 10.6875 by 0.28125 degrees_east\n",
      "                              lat : 51.85009 to 53.81731 degrees_north\n",
      "                        available : cellbounds\n",
      "   Vertical coordinates :\n",
      "     1 : surface                  : levels=1\n",
      "   Time coordinate :\n",
      "                             time : 8761 steps\n",
      "     RefTime =  1950-01-01 00:00:00  Units = hours  Calendar = proleptic_gregorian\n",
      "  YYYY-MM-DD hh:mm:ss  YYYY-MM-DD hh:mm:ss  YYYY-MM-DD hh:mm:ss  YYYY-MM-DD hh:mm:ss\n",
      "  2013-12-31 22:00:00  2013-12-31 23:00:00  2014-01-01 00:00:00  2014-01-01 01:00:00\n",
      "  2014-01-01 02:00:00  2014-01-01 03:00:00  2014-01-01 04:00:00  2014-01-01 05:00:00\n",
      "  2014-01-01 06:00:00  2014-01-01 07:00:00  2014-01-01 08:00:00  2014-01-01 09:00:00\n",
      "  2014-01-01 10:00:00  2014-01-01 11:00:00  2014-01-01 12:00:00  2014-01-01 13:00:00\n",
      "  2014-01-01 14:00:00  2014-01-01 15:00:00  2014-01-01 16:00:00  2014-01-01 17:00:00\n",
      "  2014-01-01 18:00:00  2014-01-01 19:00:00  2014-01-01 20:00:00  2014-01-01 21:00:00\n",
      "  2014-01-01 22:00:00  2014-01-01 23:00:00  2014-01-02 00:00:00  2014-01-02 01:00:00\n",
      "  2014-01-02 02:00:00  2014-01-02 03:00:00  2014-01-02 04:00:00  2014-01-02 05:00:00\n",
      "  2014-01-02 06:00:00  2014-01-02 07:00:00  2014-01-02 08:00:00  2014-01-02 09:00:00\n",
      "  2014-01-02 10:00:00  2014-01-02 11:00:00  2014-01-02 12:00:00  2014-01-02 13:00:00\n",
      "  2014-01-02 14:00:00  2014-01-02 15:00:00  2014-01-02 16:00:00  2014-01-02 17:00:00\n",
      "  2014-01-02 18:00:00  2014-01-02 19:00:00  2014-01-02 20:00:00  2014-01-02 21:00:00\n",
      "  2014-01-02 22:00:00  2014-01-02 23:00:00  2014-01-03 00:00:00  2014-01-03 01:00:00\n",
      "  2014-01-03 02:00:00  2014-01-03 03:00:00  2014-01-03 04:00:00  2014-01-03 05:00:00\n",
      "  2014-01-03 06:00:00  2014-01-03 07:00:00  2014-01-03 08:00:00  2014-01-03 09:00:00\n",
      "   ................................................................................\n",
      "   ................................................................................\n",
      "   ..............................................................................\n",
      "  2014-12-29 14:00:00  2014-12-29 15:00:00  2014-12-29 16:00:00  2014-12-29 17:00:00\n",
      "  2014-12-29 18:00:00  2014-12-29 19:00:00  2014-12-29 20:00:00  2014-12-29 21:00:00\n",
      "  2014-12-29 22:00:00  2014-12-29 23:00:00  2014-12-30 00:00:00  2014-12-30 01:00:00\n",
      "  2014-12-30 02:00:00  2014-12-30 03:00:00  2014-12-30 04:00:00  2014-12-30 05:00:00\n",
      "  2014-12-30 06:00:00  2014-12-30 07:00:00  2014-12-30 08:00:00  2014-12-30 09:00:00\n",
      "  2014-12-30 10:00:00  2014-12-30 11:00:00  2014-12-30 12:00:00  2014-12-30 13:00:00\n",
      "  2014-12-30 14:00:00  2014-12-30 15:00:00  2014-12-30 16:00:00  2014-12-30 17:00:00\n",
      "  2014-12-30 18:00:00  2014-12-30 19:00:00  2014-12-30 20:00:00  2014-12-30 21:00:00\n",
      "  2014-12-30 22:00:00  2014-12-30 23:00:00  2014-12-31 00:00:00  2014-12-31 01:00:00\n",
      "  2014-12-31 02:00:00  2014-12-31 03:00:00  2014-12-31 04:00:00  2014-12-31 05:00:00\n",
      "  2014-12-31 06:00:00  2014-12-31 07:00:00  2014-12-31 08:00:00  2014-12-31 09:00:00\n",
      "  2014-12-31 10:00:00  2014-12-31 11:00:00  2014-12-31 12:00:00  2014-12-31 13:00:00\n",
      "  2014-12-31 14:00:00  2014-12-31 15:00:00  2014-12-31 16:00:00  2014-12-31 17:00:00\n",
      "  2014-12-31 18:00:00  2014-12-31 19:00:00  2014-12-31 20:00:00  2014-12-31 21:00:00\n",
      "  2014-12-31 22:00:00\n"
     ]
    },
    {
     "data": {
      "text/plain": [
       "CompletedProcess(args='cdo sinfo /work/bm1159/XCES/xces-work/k203179/data/test/era5_for_soltau_cleaned.nc', returncode=0)"
      ]
     },
     "execution_count": 16,
     "metadata": {},
     "output_type": "execute_result"
    }
   ],
   "source": [
    "cdo = f\"cdo sinfo /work/bm1159/XCES/xces-work/k203179/data/test/era5_for_soltau_cleaned.nc\"\n",
    "subprocess.run(cdo, shell=True)"
   ]
  },
  {
   "cell_type": "markdown",
   "metadata": {},
   "source": []
  },
  {
   "cell_type": "code",
   "execution_count": 1,
   "metadata": {},
   "outputs": [],
   "source": [
    "import xarray as xr\n",
    "import numpy as np\n",
    "import os\n",
    "# open test dataset\n",
    "file_path_test_set = \"/work/bm1159/XCES/xces-work/k203179/data/test/expected_Soltau_cleaned.nc\"\n",
    "os.system(f\"cp {file_path_test_set} {file_path_test_set.split('.nc')[0]}_reality.nc\") \n",
    "test_set = xr.open_dataset(file_path_test_set)\n",
    "\n",
    "# set all tas values to null\n",
    "test_set.tas.values[:] = np.nan\n",
    "\n",
    "# save changes force overwrite via deletion of existing file\n",
    "os.remove(file_path_test_set)\n",
    "test_set.to_netcdf(file_path_test_set)"
   ]
  },
  {
   "cell_type": "code",
   "execution_count": 9,
   "metadata": {},
   "outputs": [
    {
     "data": {
      "image/png": "[encoded data removed]",
      "text/plain": [
       "<Figure size 640x480 with 2 Axes>"
      ]
     },
     "metadata": {},
     "output_type": "display_data"
    },
    {
     "data": {
      "image/png": "[encoded data removed]",
      "text/plain": [
       "<Figure size 640x480 with 2 Axes>"
      ]
     },
     "metadata": {},
     "output_type": "display_data"
    }
   ],
   "source": [
    "from station_reconstruct_utils import DataSet, DatasetPlotter\n",
    "\n",
    "vmin = 270\n",
    "vmax = 300\n",
    "\n",
    "\n",
    "soltau_input = DatasetPlotter(DataSet(\"/work/bm1159/XCES/xces-work/k203179/data/test/era5_for_soltau_cleaned.nc\", \"input\", is_file=True))\n",
    "soltau_input.vmin = vmin\n",
    "soltau_input.vmax = vmax\n",
    "soltau_input.plot()\n",
    "\n",
    "\n",
    "\n",
    "era5_train = DatasetPlotter(DataSet(\"outputs/output_output.nc\", \"output\", is_file=True))\n",
    "era5_train.vmin = vmin\n",
    "era5_train.vmax = vmax\n",
    "era5_train.plot()"
   ]
  },
  {
   "cell_type": "markdown",
   "metadata": {},
   "source": [
    "# Clean the Test Dataset values to NAN"
   ]
  }
 ],
 "metadata": {
  "kernelspec": {
   "display_name": "Python 3",
   "language": "python",
   "name": "python3"
  },
  "language_info": {
   "codemirror_mode": {
    "name": "ipython",
    "version": 3
   },
   "file_extension": ".py",
   "mimetype": "text/x-python",
   "name": "python",
   "nbconvert_exporter": "python",
   "pygments_lexer": "ipython3",
   "version": "3.10.13"
  }
 },
 "nbformat": 4,
 "nbformat_minor": 5
}
