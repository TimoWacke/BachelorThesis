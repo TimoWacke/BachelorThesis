{
 "cells": [
  {
   "cell_type": "code",
   "execution_count": 1,
   "outputs": [
    {
     "ename": "FileNotFoundError",
     "evalue": "[Errno 2] No such file or directory: 'joined.nc'",
     "output_type": "error",
     "traceback": [
      "\u001B[0;31m---------------------------------------------------------------------------\u001B[0m",
      "\u001B[0;31mFileNotFoundError\u001B[0m                         Traceback (most recent call last)",
      "Cell \u001B[0;32mIn[1], line 9\u001B[0m\n\u001B[1;32m      5\u001B[0m file_path \u001B[38;5;241m=\u001B[39m \u001B[38;5;124m'\u001B[39m\u001B[38;5;124mjoined.nc\u001B[39m\u001B[38;5;124m'\u001B[39m\n\u001B[1;32m      8\u001B[0m \u001B[38;5;66;03m# Open the NetCDF file\u001B[39;00m\n\u001B[0;32m----> 9\u001B[0m dataset \u001B[38;5;241m=\u001B[39m \u001B[43mnc\u001B[49m\u001B[38;5;241;43m.\u001B[39;49m\u001B[43mDataset\u001B[49m\u001B[43m(\u001B[49m\u001B[43mfile_path\u001B[49m\u001B[43m)\u001B[49m\n\u001B[1;32m     11\u001B[0m \u001B[38;5;28mprint\u001B[39m(dataset\u001B[38;5;241m.\u001B[39mvariables\u001B[38;5;241m.\u001B[39mkeys())\n",
      "File \u001B[0;32msrc/netCDF4/_netCDF4.pyx:2469\u001B[0m, in \u001B[0;36mnetCDF4._netCDF4.Dataset.__init__\u001B[0;34m()\u001B[0m\n",
      "File \u001B[0;32msrc/netCDF4/_netCDF4.pyx:2028\u001B[0m, in \u001B[0;36mnetCDF4._netCDF4._ensure_nc_success\u001B[0;34m()\u001B[0m\n",
      "\u001B[0;31mFileNotFoundError\u001B[0m: [Errno 2] No such file or directory: 'joined.nc'"
     ]
    }
   ],
   "source": [
    "import netCDF4 as nc\n",
    "import matplotlib.pyplot as plt\n",
    "\n",
    "# Replace 'your_file.nc' with the path to your NetCDF file\n",
    "file_path = 'joined.nc'\n",
    "\n",
    "\n",
    "# Open the NetCDF file\n",
    "dataset = nc.Dataset(file_path)\n",
    "\n",
    "print(dataset.variables.keys())"
   ],
   "metadata": {
    "collapsed": false
   },
   "id": "initial_id"
  },
  {
   "cell_type": "code",
   "execution_count": null,
   "outputs": [],
   "source": [
    "temperature_var = dataset.variables['tas']\n",
    "\n",
    "print(temperature_var.dimensions,\n",
    "      temperature_var.shape,\n",
    "      temperature_var.units,\n",
    "      temperature_var.long_name)"
   ],
   "metadata": {
    "collapsed": false
   },
   "id": "2a562c600b94e19e"
  },
  {
   "cell_type": "code",
   "execution_count": null,
   "outputs": [],
   "source": [
    "# get the 24 time steps at the 13th latitude and 13th longitude\n",
    "x = 12\n",
    "y = 12\n",
    "temperature_at_xy = temperature_var[:, x, y]\n",
    "print(temperature_at_xy.shape)"
   ],
   "metadata": {
    "collapsed": false
   },
   "id": "c367e37016d9207f"
  },
  {
   "cell_type": "code",
   "execution_count": null,
   "outputs": [],
   "source": [
    "# get the time values\n",
    "time_var = dataset.variables['time']\n",
    "# print the time values\n",
    "print(time_var[:])"
   ],
   "metadata": {
    "collapsed": false
   },
   "id": "3e9e1bc4e80fe79"
  },
  {
   "cell_type": "code",
   "execution_count": null,
   "outputs": [],
   "source": [
    "# plot the data\n",
    "plt.plot(time_var[:], temperature_at_xy)\n",
    "plt.show()"
   ],
   "metadata": {
    "collapsed": false
   },
   "id": "7f084c0345fde8b"
  },
  {
   "cell_type": "code",
   "execution_count": null,
   "outputs": [],
   "source": [
    "import numpy as np\n",
    "\n",
    "# calulate the nearest latitude and longitude values to given coordinates\n",
    "lat_var = dataset.variables['lat']\n",
    "lon_var = dataset.variables['lon']\n",
    "\n",
    "# given latitude and longitude values\n",
    "given_lat = 53.55\n",
    "given_lon = 9.95\n",
    "\n",
    "# binary search to find the nearest latitude and longitude values\n",
    "def find_nearest(array, value):\n",
    "    idx = np.searchsorted(array, value, side=\"right\")\n",
    "    if idx > 0 and (idx == len(array) or np.abs(value - array[idx-1]) < np.abs(value - array[idx])):\n",
    "        return idx-1\n",
    "    else:\n",
    "        return idx\n",
    "    \n",
    "lat_nearest_idx = find_nearest(lat_var[:], given_lat)\n",
    "lon_nearest_idx = find_nearest(lon_var[:], given_lon)\n",
    "\n",
    "print(lat_nearest_idx, lon_nearest_idx)\n",
    "print(lat_var[lat_nearest_idx], lon_var[lon_nearest_idx])\n",
    "\n"
   ],
   "metadata": {
    "collapsed": false
   },
   "id": "29c0bf709a40a1d6"
  },
  {
   "cell_type": "code",
   "execution_count": null,
   "outputs": [],
   "source": [
    "# plot at the nearest latitude and longitude values\n",
    "temperature_at_nearest_lat_lon = temperature_var[:, lat_nearest_idx, lon_nearest_idx]\n",
    "plt.plot(time_var[:], temperature_at_nearest_lat_lon)"
   ],
   "metadata": {
    "collapsed": false
   },
   "id": "e5a9a3953489cd1e"
  },
  {
   "cell_type": "code",
   "execution_count": null,
   "outputs": [],
   "source": [
    "# plot the world on a map at a given time stamp. Use colors for the temperature values\n",
    "import cartopy.crs as ccrs\n",
    "\n",
    "# get the time stamp\n",
    "time_idx = 12\n",
    "temperature_at_time_idx = temperature_var[time_idx, :, :]\n",
    "# plot the temperature values on a map\n",
    "ax = plt.axes(projection=ccrs.PlateCarree())\n",
    "ax.coastlines()\n",
    "plt.contourf(lon_var[:], lat_var[:], temperature_at_time_idx)\n",
    "plt.show()"
   ],
   "metadata": {
    "collapsed": false
   },
   "id": "6b0a0cdebc703b3d"
  },
  {
   "cell_type": "code",
   "execution_count": null,
   "outputs": [],
   "source": [
    "# Preparing Trainings Data\n",
    "\n",
    "# 9x9 grid around the given latitude and longitude values\n",
    "lat_idx_min = lat_nearest_idx - 4\n",
    "lat_idx_max = lat_nearest_idx + 4\n",
    "lon_idx_min = lon_nearest_idx - 4\n",
    "lon_idx_max = lon_nearest_idx + 4\n",
    "\n",
    "# append p % of the timesteps\n",
    "p = 0.1\n",
    "# maximum number is 10\n",
    "mask_n = min(10, int(len(time_var[:]) * p))\n",
    "# get n random different idx values in the range of the time_var\n",
    "mask_idx = np.random.choice(len(time_var[:]), mask_n, replace=False) + 1\n",
    "# add 1 to each of the idx values\n",
    "mask_idx = sorted(mask_idx)\n",
    "print(mask_idx)"
   ],
   "metadata": {
    "collapsed": false
   },
   "id": "5a9f642b047161ab"
  },
  {
   "cell_type": "code",
   "execution_count": null,
   "id": "207429cf98da8692",
   "metadata": {
    "collapsed": false,
    "ExecuteTime": {
     "end_time": "2023-11-30T15:23:48.476096Z",
     "start_time": "2023-11-30T15:23:48.474012Z"
    }
   },
   "outputs": [],
   "source": [
    "# run the cdo shell command to delete,timestep= mask_idx and to cut out the 9x9 grid around the given latitude and longitude values\n",
    "import subprocess\n",
    "\n",
    "\n",
    "# cut out the 9x9 grid\n",
    "cdo_command = f'cdo selindexbox,{lon_idx_min},{lon_idx_max},{lat_idx_min},{lat_idx_max} {file_path} temp.nc'\n",
    "subprocess.call(cdo_command, shell=True)\n",
    "# create training timesteps and evalutation timesteps\n",
    "cdo_command = f'cdo delete,timestep={\",\".join(map(str, mask_idx))} temp.nc ../data/train/9x9_training.nc'\n",
    "subprocess.call(cdo_command, shell=True)\n",
    "cdo_command = f'cdo seltimestep,{\",\".join(map(str, mask_idx))} temp.nc ../data/val/9x9_training.nc'\n",
    "subprocess.call(cdo_command, shell=True)\n",
    "\n",
    "# generate some expected output data\n",
    "command = f'cp ../data/train/9x9_training.nc ../data/train/9x9_training_expected.nc'\n",
    "subprocess.call(command, shell=True)\n",
    "# load the expected output data and manipulate it\n",
    "with nc.Dataset('../data/train/9x9_training_expected.nc', 'r+') as dataset:\n",
    "    # for each timestep\n",
    "    for i in range(len(dataset.variables['time'][:])):\n",
    "        # set all lat and long values to the median value of the 9x9 grid\n",
    "        dataset.variables['tas'][i, :, :] = dataset.variables['tas'][i, 0, 0]\n",
    "\n",
    "command = f'cp ../data/val/9x9_training.nc ../data/val/9x9_training_expected.nc'\n",
    "subprocess.call(command, shell=True)\n",
    "\n",
    "# load the expected output data and manipulate it\n",
    "with nc.Dataset('../data/val/9x9_training_expected.nc', 'r+') as dataset:\n",
    "    # for each timestep\n",
    "    for i in range(len(dataset.variables['time'][:])):\n",
    "        # set all lat and long values to the value of the 0 lat and 0 long value\n",
    "        dataset.variables['tas'][i, :, :] = dataset.variables['tas'][i, 0, 0]\n",
    "\n",
    "# delete the temporary file\n",
    "command = f'rm temp.nc'\n",
    "subprocess.call(command, shell=True)"
   ]
  },
  {
   "cell_type": "code",
   "execution_count": null,
   "id": "58837ac90086e2c3",
   "metadata": {
    "collapsed": false,
    "ExecuteTime": {
     "start_time": "2023-11-30T15:23:48.474496Z"
    }
   },
   "outputs": [],
   "source": [
    "from statuib_import DatasetPlotter, AreaPlotter, DataSet, Area\n",
    "\n",
    "hh_lon = 9.95\n",
    "hh_lat = 53.55\n",
    "Hamburg = Area(hh_lon-2, hh_lon+2, hh_lat-2, hh_lat+2)\n",
    "HamburgPlotter = AreaPlotter(Hamburg)\n",
    "HamburgPlotter.generate_time_index_list(1)\n",
    "HamburgPlotter.plot_dataset(DataSet(\"era5_hourly_july-sept.nc\"))"
   ]
  },
  {
   "cell_type": "code",
   "execution_count": null,
   "outputs": [],
   "source": [],
   "metadata": {
    "collapsed": false,
    "ExecuteTime": {
     "start_time": "2023-11-30T15:23:48.474621Z"
    }
   },
   "id": "799336b6d3334d32"
  }
 ],
 "metadata": {
  "kernelspec": {
   "display_name": "crai",
   "language": "python",
   "name": "python3"
  },
  "language_info": {
   "codemirror_mode": {
    "name": "ipython",
    "version": 3
   },
   "file_extension": ".py",
   "mimetype": "text/x-python",
   "name": "python",
   "nbconvert_exporter": "python",
   "pygments_lexer": "ipython3",
   "version": "3.10.13"
  }
 },
 "nbformat": 4,
 "nbformat_minor": 5
}
